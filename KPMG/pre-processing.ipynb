{
 "cells": [
  {
   "cell_type": "code",
   "execution_count": 1,
   "metadata": {},
   "outputs": [],
   "source": [
    "#import libs\n",
    "import pandas as pd\n",
    "import matplotlib.pyplot as plt\n",
    "import seaborn as sns; sns.set()\n",
    "%matplotlib inline\n"
   ]
  },
  {
   "cell_type": "code",
   "execution_count": 2,
   "metadata": {},
   "outputs": [],
   "source": [
    "Tran= pd.read_excel('KPMG_VI_New_raw_data_update_final.xlsx',sheet_name='Transactions',skiprows=[0])"
   ]
  },
  {
   "cell_type": "code",
   "execution_count": 3,
   "metadata": {},
   "outputs": [
    {
     "data": {
      "text/html": [
       "<div>\n",
       "<style scoped>\n",
       "    .dataframe tbody tr th:only-of-type {\n",
       "        vertical-align: middle;\n",
       "    }\n",
       "\n",
       "    .dataframe tbody tr th {\n",
       "        vertical-align: top;\n",
       "    }\n",
       "\n",
       "    .dataframe thead th {\n",
       "        text-align: right;\n",
       "    }\n",
       "</style>\n",
       "<table border=\"1\" class=\"dataframe\">\n",
       "  <thead>\n",
       "    <tr style=\"text-align: right;\">\n",
       "      <th></th>\n",
       "      <th>transaction_id</th>\n",
       "      <th>product_id</th>\n",
       "      <th>customer_id</th>\n",
       "      <th>transaction_date</th>\n",
       "      <th>online_order</th>\n",
       "      <th>order_status</th>\n",
       "      <th>brand</th>\n",
       "      <th>product_line</th>\n",
       "      <th>product_class</th>\n",
       "      <th>product_size</th>\n",
       "      <th>list_price</th>\n",
       "      <th>standard_cost</th>\n",
       "      <th>product_first_sold_date</th>\n",
       "    </tr>\n",
       "  </thead>\n",
       "  <tbody>\n",
       "    <tr>\n",
       "      <td>0</td>\n",
       "      <td>1</td>\n",
       "      <td>2</td>\n",
       "      <td>2950</td>\n",
       "      <td>2017-02-25</td>\n",
       "      <td>0.0</td>\n",
       "      <td>Approved</td>\n",
       "      <td>Solex</td>\n",
       "      <td>Standard</td>\n",
       "      <td>medium</td>\n",
       "      <td>medium</td>\n",
       "      <td>71.49</td>\n",
       "      <td>53.62</td>\n",
       "      <td>41245.0</td>\n",
       "    </tr>\n",
       "    <tr>\n",
       "      <td>1</td>\n",
       "      <td>2</td>\n",
       "      <td>3</td>\n",
       "      <td>3120</td>\n",
       "      <td>2017-05-21</td>\n",
       "      <td>1.0</td>\n",
       "      <td>Approved</td>\n",
       "      <td>Trek Bicycles</td>\n",
       "      <td>Standard</td>\n",
       "      <td>medium</td>\n",
       "      <td>large</td>\n",
       "      <td>2091.47</td>\n",
       "      <td>388.92</td>\n",
       "      <td>41701.0</td>\n",
       "    </tr>\n",
       "    <tr>\n",
       "      <td>2</td>\n",
       "      <td>3</td>\n",
       "      <td>37</td>\n",
       "      <td>402</td>\n",
       "      <td>2017-10-16</td>\n",
       "      <td>0.0</td>\n",
       "      <td>Approved</td>\n",
       "      <td>OHM Cycles</td>\n",
       "      <td>Standard</td>\n",
       "      <td>low</td>\n",
       "      <td>medium</td>\n",
       "      <td>1793.43</td>\n",
       "      <td>248.82</td>\n",
       "      <td>36361.0</td>\n",
       "    </tr>\n",
       "    <tr>\n",
       "      <td>3</td>\n",
       "      <td>4</td>\n",
       "      <td>88</td>\n",
       "      <td>3135</td>\n",
       "      <td>2017-08-31</td>\n",
       "      <td>0.0</td>\n",
       "      <td>Approved</td>\n",
       "      <td>Norco Bicycles</td>\n",
       "      <td>Standard</td>\n",
       "      <td>medium</td>\n",
       "      <td>medium</td>\n",
       "      <td>1198.46</td>\n",
       "      <td>381.10</td>\n",
       "      <td>36145.0</td>\n",
       "    </tr>\n",
       "    <tr>\n",
       "      <td>4</td>\n",
       "      <td>5</td>\n",
       "      <td>78</td>\n",
       "      <td>787</td>\n",
       "      <td>2017-10-01</td>\n",
       "      <td>1.0</td>\n",
       "      <td>Approved</td>\n",
       "      <td>Giant Bicycles</td>\n",
       "      <td>Standard</td>\n",
       "      <td>medium</td>\n",
       "      <td>large</td>\n",
       "      <td>1765.30</td>\n",
       "      <td>709.48</td>\n",
       "      <td>42226.0</td>\n",
       "    </tr>\n",
       "  </tbody>\n",
       "</table>\n",
       "</div>"
      ],
      "text/plain": [
       "   transaction_id  product_id  customer_id transaction_date  online_order  \\\n",
       "0               1           2         2950       2017-02-25           0.0   \n",
       "1               2           3         3120       2017-05-21           1.0   \n",
       "2               3          37          402       2017-10-16           0.0   \n",
       "3               4          88         3135       2017-08-31           0.0   \n",
       "4               5          78          787       2017-10-01           1.0   \n",
       "\n",
       "  order_status           brand product_line product_class product_size  \\\n",
       "0     Approved           Solex     Standard        medium       medium   \n",
       "1     Approved   Trek Bicycles     Standard        medium        large   \n",
       "2     Approved      OHM Cycles     Standard           low       medium   \n",
       "3     Approved  Norco Bicycles     Standard        medium       medium   \n",
       "4     Approved  Giant Bicycles     Standard        medium        large   \n",
       "\n",
       "   list_price  standard_cost  product_first_sold_date  \n",
       "0       71.49          53.62                  41245.0  \n",
       "1     2091.47         388.92                  41701.0  \n",
       "2     1793.43         248.82                  36361.0  \n",
       "3     1198.46         381.10                  36145.0  \n",
       "4     1765.30         709.48                  42226.0  "
      ]
     },
     "execution_count": 3,
     "metadata": {},
     "output_type": "execute_result"
    }
   ],
   "source": [
    "Tran.head()\n"
   ]
  },
  {
   "cell_type": "code",
   "execution_count": 4,
   "metadata": {},
   "outputs": [
    {
     "name": "stdout",
     "output_type": "stream",
     "text": [
      "<class 'pandas.core.frame.DataFrame'>\n",
      "RangeIndex: 20000 entries, 0 to 19999\n",
      "Data columns (total 13 columns):\n",
      "transaction_id             20000 non-null int64\n",
      "product_id                 20000 non-null int64\n",
      "customer_id                20000 non-null int64\n",
      "transaction_date           20000 non-null datetime64[ns]\n",
      "online_order               19640 non-null float64\n",
      "order_status               20000 non-null object\n",
      "brand                      19803 non-null object\n",
      "product_line               19803 non-null object\n",
      "product_class              19803 non-null object\n",
      "product_size               19803 non-null object\n",
      "list_price                 20000 non-null float64\n",
      "standard_cost              19803 non-null float64\n",
      "product_first_sold_date    19803 non-null float64\n",
      "dtypes: datetime64[ns](1), float64(4), int64(3), object(5)\n",
      "memory usage: 2.0+ MB\n"
     ]
    }
   ],
   "source": [
    "Tran.info()"
   ]
  },
  {
   "cell_type": "code",
   "execution_count": 5,
   "metadata": {},
   "outputs": [
    {
     "name": "stdout",
     "output_type": "stream",
     "text": [
      "<class 'pandas.core.frame.DataFrame'>\n",
      "RangeIndex: 20000 entries, 0 to 19999\n",
      "Data columns (total 13 columns):\n",
      "transaction_id             20000 non-null int64\n",
      "product_id                 20000 non-null category\n",
      "customer_id                20000 non-null int64\n",
      "transaction_date           20000 non-null datetime64[ns]\n",
      "online_order               19640 non-null category\n",
      "order_status               20000 non-null category\n",
      "brand                      19803 non-null category\n",
      "product_line               19803 non-null category\n",
      "product_class              19803 non-null category\n",
      "product_size               19803 non-null category\n",
      "list_price                 20000 non-null float64\n",
      "standard_cost              19803 non-null float64\n",
      "product_first_sold_date    19803 non-null float64\n",
      "dtypes: category(7), datetime64[ns](1), float64(3), int64(2)\n",
      "memory usage: 1.1 MB\n",
      "None\n"
     ]
    }
   ],
   "source": [
    "##Convert ##order_status\tbrand\tproduct_line\tproduct_class\tproduct_size ## to ##category\n",
    "#cats \n",
    "Tran['online_order'].replace({0:'No',1:'Yes'},inplace=True)\n",
    "Tran_col=['order_status','brand','product_line','product_class','product_size','product_id','online_order']\n",
    "for item in Tran_col:\n",
    "    Tran[item]=Tran[item].astype('category')\n",
    "#     Tran[item]=Tran[item].fillna(Tran[item].mode()[0])\n",
    "\n",
    "print(Tran.info())\n"
   ]
  },
  {
   "cell_type": "code",
   "execution_count": 6,
   "metadata": {},
   "outputs": [
    {
     "data": {
      "text/plain": [
       "transaction_id               0\n",
       "product_id                   0\n",
       "customer_id                  0\n",
       "transaction_date             0\n",
       "online_order               360\n",
       "order_status                 0\n",
       "brand                      197\n",
       "product_line               197\n",
       "product_class              197\n",
       "product_size               197\n",
       "list_price                   0\n",
       "standard_cost              197\n",
       "product_first_sold_date    197\n",
       "dtype: int64"
      ]
     },
     "execution_count": 6,
     "metadata": {},
     "output_type": "execute_result"
    }
   ],
   "source": [
    "Tran.isnull().sum()\n"
   ]
  },
  {
   "cell_type": "code",
   "execution_count": 7,
   "metadata": {},
   "outputs": [],
   "source": []
  },
  {
   "cell_type": "code",
   "execution_count": 8,
   "metadata": {},
   "outputs": [],
   "source": [
    "# Tran['product_first_sold_date']=Tran['product_first_sold_date'].fillna(Tran['product_first_sold_date'].mode()[0])"
   ]
  },
  {
   "cell_type": "code",
   "execution_count": 9,
   "metadata": {},
   "outputs": [],
   "source": [
    "# Tran['standard_cost']=Tran['standard_cost'].fillna(Tran['standard_cost'].mean())"
   ]
  },
  {
   "cell_type": "code",
   "execution_count": 10,
   "metadata": {
    "scrolled": true
   },
   "outputs": [
    {
     "data": {
      "text/plain": [
       "transaction_id               0\n",
       "product_id                   0\n",
       "customer_id                  0\n",
       "transaction_date             0\n",
       "online_order               360\n",
       "order_status                 0\n",
       "brand                      197\n",
       "product_line               197\n",
       "product_class              197\n",
       "product_size               197\n",
       "list_price                   0\n",
       "standard_cost              197\n",
       "product_first_sold_date    197\n",
       "dtype: int64"
      ]
     },
     "execution_count": 10,
     "metadata": {},
     "output_type": "execute_result"
    }
   ],
   "source": [
    "Tran.isnull().sum()\n"
   ]
  },
  {
   "cell_type": "code",
   "execution_count": 11,
   "metadata": {},
   "outputs": [],
   "source": [
    "# Tran.describe()"
   ]
  },
  {
   "cell_type": "code",
   "execution_count": 12,
   "metadata": {},
   "outputs": [],
   "source": [
    "# Tran.describe(include='object')"
   ]
  },
  {
   "cell_type": "code",
   "execution_count": 13,
   "metadata": {},
   "outputs": [],
   "source": [
    "df1= pd.read_excel('KPMG_VI_New_raw_data_update_final.xlsx',sheet_name='CustomerDemographic',skiprows=[0])\n",
    "df2= pd.read_excel('KPMG_VI_New_raw_data_update_final.xlsx',sheet_name='CustomerAddress',skiprows=[0])\n",
    "\n",
    "old_customer=pd.merge(df1, df2, on='customer_id')\n",
    "\n"
   ]
  },
  {
   "cell_type": "code",
   "execution_count": 14,
   "metadata": {},
   "outputs": [
    {
     "name": "stdout",
     "output_type": "stream",
     "text": [
      "(3996, 18)\n"
     ]
    },
    {
     "data": {
      "text/html": [
       "<div>\n",
       "<style scoped>\n",
       "    .dataframe tbody tr th:only-of-type {\n",
       "        vertical-align: middle;\n",
       "    }\n",
       "\n",
       "    .dataframe tbody tr th {\n",
       "        vertical-align: top;\n",
       "    }\n",
       "\n",
       "    .dataframe thead th {\n",
       "        text-align: right;\n",
       "    }\n",
       "</style>\n",
       "<table border=\"1\" class=\"dataframe\">\n",
       "  <thead>\n",
       "    <tr style=\"text-align: right;\">\n",
       "      <th></th>\n",
       "      <th>customer_id</th>\n",
       "      <th>first_name</th>\n",
       "      <th>last_name</th>\n",
       "      <th>gender</th>\n",
       "      <th>past_3_years_bike_related_purchases</th>\n",
       "      <th>DOB</th>\n",
       "      <th>job_title</th>\n",
       "      <th>job_industry_category</th>\n",
       "      <th>wealth_segment</th>\n",
       "      <th>deceased_indicator</th>\n",
       "      <th>default</th>\n",
       "      <th>owns_car</th>\n",
       "      <th>tenure</th>\n",
       "      <th>address</th>\n",
       "      <th>postcode</th>\n",
       "      <th>state</th>\n",
       "      <th>country</th>\n",
       "      <th>property_valuation</th>\n",
       "    </tr>\n",
       "  </thead>\n",
       "  <tbody>\n",
       "    <tr>\n",
       "      <td>0</td>\n",
       "      <td>1</td>\n",
       "      <td>Laraine</td>\n",
       "      <td>Medendorp</td>\n",
       "      <td>F</td>\n",
       "      <td>93</td>\n",
       "      <td>1953-10-12</td>\n",
       "      <td>Executive Secretary</td>\n",
       "      <td>Health</td>\n",
       "      <td>Mass Customer</td>\n",
       "      <td>N</td>\n",
       "      <td>\"'</td>\n",
       "      <td>Yes</td>\n",
       "      <td>11.0</td>\n",
       "      <td>060 Morning Avenue</td>\n",
       "      <td>2016</td>\n",
       "      <td>New South Wales</td>\n",
       "      <td>Australia</td>\n",
       "      <td>10</td>\n",
       "    </tr>\n",
       "    <tr>\n",
       "      <td>1</td>\n",
       "      <td>2</td>\n",
       "      <td>Eli</td>\n",
       "      <td>Bockman</td>\n",
       "      <td>Male</td>\n",
       "      <td>81</td>\n",
       "      <td>1980-12-16</td>\n",
       "      <td>Administrative Officer</td>\n",
       "      <td>Financial Services</td>\n",
       "      <td>Mass Customer</td>\n",
       "      <td>N</td>\n",
       "      <td>&lt;script&gt;alert('hi')&lt;/script&gt;</td>\n",
       "      <td>Yes</td>\n",
       "      <td>16.0</td>\n",
       "      <td>6 Meadow Vale Court</td>\n",
       "      <td>2153</td>\n",
       "      <td>New South Wales</td>\n",
       "      <td>Australia</td>\n",
       "      <td>10</td>\n",
       "    </tr>\n",
       "    <tr>\n",
       "      <td>2</td>\n",
       "      <td>4</td>\n",
       "      <td>Talbot</td>\n",
       "      <td>NaN</td>\n",
       "      <td>Male</td>\n",
       "      <td>33</td>\n",
       "      <td>1961-10-03</td>\n",
       "      <td>NaN</td>\n",
       "      <td>IT</td>\n",
       "      <td>Mass Customer</td>\n",
       "      <td>N</td>\n",
       "      <td>() { _; } &gt;_[$($())] { touch /tmp/blns.shellsh...</td>\n",
       "      <td>No</td>\n",
       "      <td>7.0</td>\n",
       "      <td>0 Holy Cross Court</td>\n",
       "      <td>4211</td>\n",
       "      <td>QLD</td>\n",
       "      <td>Australia</td>\n",
       "      <td>9</td>\n",
       "    </tr>\n",
       "    <tr>\n",
       "      <td>3</td>\n",
       "      <td>5</td>\n",
       "      <td>Sheila-kathryn</td>\n",
       "      <td>Calton</td>\n",
       "      <td>Female</td>\n",
       "      <td>56</td>\n",
       "      <td>1977-05-13</td>\n",
       "      <td>Senior Editor</td>\n",
       "      <td>NaN</td>\n",
       "      <td>Affluent Customer</td>\n",
       "      <td>N</td>\n",
       "      <td>NIL</td>\n",
       "      <td>Yes</td>\n",
       "      <td>8.0</td>\n",
       "      <td>17979 Del Mar Point</td>\n",
       "      <td>2448</td>\n",
       "      <td>New South Wales</td>\n",
       "      <td>Australia</td>\n",
       "      <td>4</td>\n",
       "    </tr>\n",
       "    <tr>\n",
       "      <td>4</td>\n",
       "      <td>6</td>\n",
       "      <td>Curr</td>\n",
       "      <td>Duckhouse</td>\n",
       "      <td>Male</td>\n",
       "      <td>35</td>\n",
       "      <td>1966-09-16</td>\n",
       "      <td>NaN</td>\n",
       "      <td>Retail</td>\n",
       "      <td>High Net Worth</td>\n",
       "      <td>N</td>\n",
       "      <td>ðµ ð ð ð</td>\n",
       "      <td>Yes</td>\n",
       "      <td>13.0</td>\n",
       "      <td>9 Oakridge Court</td>\n",
       "      <td>3216</td>\n",
       "      <td>VIC</td>\n",
       "      <td>Australia</td>\n",
       "      <td>9</td>\n",
       "    </tr>\n",
       "  </tbody>\n",
       "</table>\n",
       "</div>"
      ],
      "text/plain": [
       "   customer_id      first_name  last_name  gender  \\\n",
       "0            1         Laraine  Medendorp       F   \n",
       "1            2             Eli    Bockman    Male   \n",
       "2            4          Talbot        NaN    Male   \n",
       "3            5  Sheila-kathryn     Calton  Female   \n",
       "4            6            Curr  Duckhouse    Male   \n",
       "\n",
       "   past_3_years_bike_related_purchases        DOB               job_title  \\\n",
       "0                                   93 1953-10-12     Executive Secretary   \n",
       "1                                   81 1980-12-16  Administrative Officer   \n",
       "2                                   33 1961-10-03                     NaN   \n",
       "3                                   56 1977-05-13           Senior Editor   \n",
       "4                                   35 1966-09-16                     NaN   \n",
       "\n",
       "  job_industry_category     wealth_segment deceased_indicator  \\\n",
       "0                Health      Mass Customer                  N   \n",
       "1    Financial Services      Mass Customer                  N   \n",
       "2                    IT      Mass Customer                  N   \n",
       "3                   NaN  Affluent Customer                  N   \n",
       "4                Retail     High Net Worth                  N   \n",
       "\n",
       "                                             default owns_car  tenure  \\\n",
       "0                                                 \"'      Yes    11.0   \n",
       "1                       <script>alert('hi')</script>      Yes    16.0   \n",
       "2  () { _; } >_[$($())] { touch /tmp/blns.shellsh...       No     7.0   \n",
       "3                                                NIL      Yes     8.0   \n",
       "4                                           ðµ ð ð ð      Yes    13.0   \n",
       "\n",
       "               address  postcode            state    country  \\\n",
       "0   060 Morning Avenue      2016  New South Wales  Australia   \n",
       "1  6 Meadow Vale Court      2153  New South Wales  Australia   \n",
       "2   0 Holy Cross Court      4211              QLD  Australia   \n",
       "3  17979 Del Mar Point      2448  New South Wales  Australia   \n",
       "4     9 Oakridge Court      3216              VIC  Australia   \n",
       "\n",
       "   property_valuation  \n",
       "0                  10  \n",
       "1                  10  \n",
       "2                   9  \n",
       "3                   4  \n",
       "4                   9  "
      ]
     },
     "execution_count": 14,
     "metadata": {},
     "output_type": "execute_result"
    }
   ],
   "source": [
    "print(old_customer.shape)\n",
    "old_customer.head()"
   ]
  },
  {
   "cell_type": "code",
   "execution_count": 15,
   "metadata": {},
   "outputs": [],
   "source": [
    "today=pd.to_datetime('today').date().year\n",
    "old_customer['age'] = today-pd.DatetimeIndex(old_customer['DOB']).year"
   ]
  },
  {
   "cell_type": "code",
   "execution_count": 16,
   "metadata": {},
   "outputs": [
    {
     "data": {
      "text/html": [
       "<div>\n",
       "<style scoped>\n",
       "    .dataframe tbody tr th:only-of-type {\n",
       "        vertical-align: middle;\n",
       "    }\n",
       "\n",
       "    .dataframe tbody tr th {\n",
       "        vertical-align: top;\n",
       "    }\n",
       "\n",
       "    .dataframe thead th {\n",
       "        text-align: right;\n",
       "    }\n",
       "</style>\n",
       "<table border=\"1\" class=\"dataframe\">\n",
       "  <thead>\n",
       "    <tr style=\"text-align: right;\">\n",
       "      <th></th>\n",
       "      <th>customer_id</th>\n",
       "      <th>first_name</th>\n",
       "      <th>last_name</th>\n",
       "      <th>gender</th>\n",
       "      <th>past_3_years_bike_related_purchases</th>\n",
       "      <th>DOB</th>\n",
       "      <th>job_title</th>\n",
       "      <th>job_industry_category</th>\n",
       "      <th>wealth_segment</th>\n",
       "      <th>deceased_indicator</th>\n",
       "      <th>default</th>\n",
       "      <th>owns_car</th>\n",
       "      <th>tenure</th>\n",
       "      <th>address</th>\n",
       "      <th>postcode</th>\n",
       "      <th>state</th>\n",
       "      <th>country</th>\n",
       "      <th>property_valuation</th>\n",
       "      <th>age</th>\n",
       "    </tr>\n",
       "  </thead>\n",
       "  <tbody>\n",
       "    <tr>\n",
       "      <td>3991</td>\n",
       "      <td>3996</td>\n",
       "      <td>Rosalia</td>\n",
       "      <td>Halgarth</td>\n",
       "      <td>Female</td>\n",
       "      <td>8</td>\n",
       "      <td>1975-08-09</td>\n",
       "      <td>VP Product Management</td>\n",
       "      <td>Health</td>\n",
       "      <td>Mass Customer</td>\n",
       "      <td>N</td>\n",
       "      <td>-100</td>\n",
       "      <td>No</td>\n",
       "      <td>19.0</td>\n",
       "      <td>0 Transport Center</td>\n",
       "      <td>3977</td>\n",
       "      <td>VIC</td>\n",
       "      <td>Australia</td>\n",
       "      <td>6</td>\n",
       "      <td>45.0</td>\n",
       "    </tr>\n",
       "    <tr>\n",
       "      <td>3992</td>\n",
       "      <td>3997</td>\n",
       "      <td>Blanch</td>\n",
       "      <td>Nisuis</td>\n",
       "      <td>Female</td>\n",
       "      <td>87</td>\n",
       "      <td>2001-07-13</td>\n",
       "      <td>Statistician II</td>\n",
       "      <td>Manufacturing</td>\n",
       "      <td>High Net Worth</td>\n",
       "      <td>N</td>\n",
       "      <td>â¦testâ§</td>\n",
       "      <td>Yes</td>\n",
       "      <td>1.0</td>\n",
       "      <td>4 Dovetail Crossing</td>\n",
       "      <td>2350</td>\n",
       "      <td>NSW</td>\n",
       "      <td>Australia</td>\n",
       "      <td>2</td>\n",
       "      <td>19.0</td>\n",
       "    </tr>\n",
       "    <tr>\n",
       "      <td>3993</td>\n",
       "      <td>3998</td>\n",
       "      <td>Sarene</td>\n",
       "      <td>Woolley</td>\n",
       "      <td>U</td>\n",
       "      <td>60</td>\n",
       "      <td>NaT</td>\n",
       "      <td>Assistant Manager</td>\n",
       "      <td>IT</td>\n",
       "      <td>High Net Worth</td>\n",
       "      <td>N</td>\n",
       "      <td>NaN</td>\n",
       "      <td>No</td>\n",
       "      <td>NaN</td>\n",
       "      <td>736 Roxbury Junction</td>\n",
       "      <td>2540</td>\n",
       "      <td>NSW</td>\n",
       "      <td>Australia</td>\n",
       "      <td>6</td>\n",
       "      <td>NaN</td>\n",
       "    </tr>\n",
       "    <tr>\n",
       "      <td>3994</td>\n",
       "      <td>3999</td>\n",
       "      <td>Patrizius</td>\n",
       "      <td>NaN</td>\n",
       "      <td>Male</td>\n",
       "      <td>11</td>\n",
       "      <td>1973-10-24</td>\n",
       "      <td>NaN</td>\n",
       "      <td>Manufacturing</td>\n",
       "      <td>Affluent Customer</td>\n",
       "      <td>N</td>\n",
       "      <td>Â¡â¢Â£Â¢âÂ§Â¶â¢ÂªÂºââ</td>\n",
       "      <td>Yes</td>\n",
       "      <td>10.0</td>\n",
       "      <td>1482 Hauk Trail</td>\n",
       "      <td>3064</td>\n",
       "      <td>VIC</td>\n",
       "      <td>Australia</td>\n",
       "      <td>3</td>\n",
       "      <td>47.0</td>\n",
       "    </tr>\n",
       "    <tr>\n",
       "      <td>3995</td>\n",
       "      <td>4000</td>\n",
       "      <td>Kippy</td>\n",
       "      <td>Oldland</td>\n",
       "      <td>Male</td>\n",
       "      <td>76</td>\n",
       "      <td>1991-11-05</td>\n",
       "      <td>Software Engineer IV</td>\n",
       "      <td>NaN</td>\n",
       "      <td>Affluent Customer</td>\n",
       "      <td>N</td>\n",
       "      <td>0/0</td>\n",
       "      <td>No</td>\n",
       "      <td>11.0</td>\n",
       "      <td>57042 Village Green Point</td>\n",
       "      <td>4511</td>\n",
       "      <td>QLD</td>\n",
       "      <td>Australia</td>\n",
       "      <td>6</td>\n",
       "      <td>29.0</td>\n",
       "    </tr>\n",
       "  </tbody>\n",
       "</table>\n",
       "</div>"
      ],
      "text/plain": [
       "      customer_id first_name last_name  gender  \\\n",
       "3991         3996    Rosalia  Halgarth  Female   \n",
       "3992         3997     Blanch    Nisuis  Female   \n",
       "3993         3998     Sarene   Woolley       U   \n",
       "3994         3999  Patrizius       NaN    Male   \n",
       "3995         4000      Kippy   Oldland    Male   \n",
       "\n",
       "      past_3_years_bike_related_purchases        DOB              job_title  \\\n",
       "3991                                    8 1975-08-09  VP Product Management   \n",
       "3992                                   87 2001-07-13        Statistician II   \n",
       "3993                                   60        NaT      Assistant Manager   \n",
       "3994                                   11 1973-10-24                    NaN   \n",
       "3995                                   76 1991-11-05   Software Engineer IV   \n",
       "\n",
       "     job_industry_category     wealth_segment deceased_indicator  \\\n",
       "3991                Health      Mass Customer                  N   \n",
       "3992         Manufacturing     High Net Worth                  N   \n",
       "3993                    IT     High Net Worth                  N   \n",
       "3994         Manufacturing  Affluent Customer                  N   \n",
       "3995                   NaN  Affluent Customer                  N   \n",
       "\n",
       "                     default owns_car  tenure                    address  \\\n",
       "3991                    -100       No    19.0         0 Transport Center   \n",
       "3992                â¦testâ§      Yes     1.0        4 Dovetail Crossing   \n",
       "3993                     NaN       No     NaN       736 Roxbury Junction   \n",
       "3994  Â¡â¢Â£Â¢âÂ§Â¶â¢ÂªÂºââ       Yes    10.0            1482 Hauk Trail   \n",
       "3995                     0/0       No    11.0  57042 Village Green Point   \n",
       "\n",
       "      postcode state    country  property_valuation   age  \n",
       "3991      3977   VIC  Australia                   6  45.0  \n",
       "3992      2350   NSW  Australia                   2  19.0  \n",
       "3993      2540   NSW  Australia                   6   NaN  \n",
       "3994      3064   VIC  Australia                   3  47.0  \n",
       "3995      4511   QLD  Australia                   6  29.0  "
      ]
     },
     "execution_count": 16,
     "metadata": {},
     "output_type": "execute_result"
    }
   ],
   "source": [
    "old_customer.tail()"
   ]
  },
  {
   "cell_type": "code",
   "execution_count": 17,
   "metadata": {},
   "outputs": [],
   "source": [
    "del old_customer['DOB']\n"
   ]
  },
  {
   "cell_type": "code",
   "execution_count": 18,
   "metadata": {},
   "outputs": [],
   "source": [
    "del old_customer['default']\n"
   ]
  },
  {
   "cell_type": "code",
   "execution_count": 19,
   "metadata": {},
   "outputs": [
    {
     "name": "stdout",
     "output_type": "stream",
     "text": [
      "<class 'pandas.core.frame.DataFrame'>\n",
      "Int64Index: 3996 entries, 0 to 3995\n",
      "Data columns (total 17 columns):\n",
      "customer_id                            3996 non-null int64\n",
      "first_name                             3996 non-null object\n",
      "last_name                              3871 non-null object\n",
      "gender                                 3996 non-null object\n",
      "past_3_years_bike_related_purchases    3996 non-null int64\n",
      "job_title                              3492 non-null object\n",
      "job_industry_category                  3341 non-null object\n",
      "wealth_segment                         3996 non-null object\n",
      "deceased_indicator                     3996 non-null object\n",
      "owns_car                               3996 non-null object\n",
      "tenure                                 3909 non-null float64\n",
      "address                                3996 non-null object\n",
      "postcode                               3996 non-null int64\n",
      "state                                  3996 non-null object\n",
      "country                                3996 non-null object\n",
      "property_valuation                     3996 non-null int64\n",
      "age                                    3909 non-null float64\n",
      "dtypes: float64(2), int64(4), object(11)\n",
      "memory usage: 561.9+ KB\n"
     ]
    }
   ],
   "source": [
    "old_customer.info()"
   ]
  },
  {
   "cell_type": "code",
   "execution_count": null,
   "metadata": {},
   "outputs": [],
   "source": []
  },
  {
   "cell_type": "code",
   "execution_count": 20,
   "metadata": {},
   "outputs": [
    {
     "data": {
      "text/plain": [
       "customer_id                              0\n",
       "first_name                               0\n",
       "last_name                              125\n",
       "gender                                   0\n",
       "past_3_years_bike_related_purchases      0\n",
       "job_title                              504\n",
       "job_industry_category                  655\n",
       "wealth_segment                           0\n",
       "deceased_indicator                       0\n",
       "owns_car                                 0\n",
       "tenure                                  87\n",
       "address                                  0\n",
       "postcode                                 0\n",
       "state                                    0\n",
       "country                                  0\n",
       "property_valuation                       0\n",
       "age                                     87\n",
       "dtype: int64"
      ]
     },
     "execution_count": 20,
     "metadata": {},
     "output_type": "execute_result"
    }
   ],
   "source": [
    "old_customer.isnull().sum()"
   ]
  },
  {
   "cell_type": "code",
   "execution_count": 21,
   "metadata": {},
   "outputs": [
    {
     "name": "stdout",
     "output_type": "stream",
     "text": [
      "18.0\n",
      "177.0\n",
      "1843.0\n"
     ]
    }
   ],
   "source": [
    "print(old_customer['age'].min())\n",
    "print(old_customer['age'].max())\n",
    "print(today-old_customer['age'].max())\n"
   ]
  },
  {
   "cell_type": "code",
   "execution_count": 23,
   "metadata": {},
   "outputs": [
    {
     "name": "stdout",
     "output_type": "stream",
     "text": [
      "Empty DataFrame\n",
      "Columns: [customer_id, first_name, last_name, gender, past_3_years_bike_related_purchases, job_title, job_industry_category, wealth_segment, deceased_indicator, owns_car, tenure, address, postcode, state, country, property_valuation, age]\n",
      "Index: []\n"
     ]
    }
   ],
   "source": [
    "old_customer.replace({177: 77},inplace=True)\n",
    "print(old_customer.loc[old_customer['age']==177])\n"
   ]
  },
  {
   "cell_type": "code",
   "execution_count": 24,
   "metadata": {},
   "outputs": [
    {
     "data": {
      "text/plain": [
       "<matplotlib.axes._subplots.AxesSubplot at 0x2715413b388>"
      ]
     },
     "execution_count": 24,
     "metadata": {},
     "output_type": "execute_result"
    },
    {
     "data": {
      "image/png": "[encoded data removed]",
      "text/plain": [
       "<Figure size 864x216 with 1 Axes>"
      ]
     },
     "metadata": {
      "needs_background": "light"
     },
     "output_type": "display_data"
    }
   ],
   "source": [
    "fig, ax = plt.subplots(figsize=(12, 3))\n",
    "sns.boxplot(x='age', data=old_customer)\n"
   ]
  },
  {
   "cell_type": "code",
   "execution_count": 25,
   "metadata": {},
   "outputs": [],
   "source": [
    "# old_customer['age']=old_customer['age'].fillna(old_customer['age'].median())\n"
   ]
  },
  {
   "cell_type": "code",
   "execution_count": 26,
   "metadata": {},
   "outputs": [
    {
     "data": {
      "text/plain": [
       "<matplotlib.axes._subplots.AxesSubplot at 0x27153e52488>"
      ]
     },
     "execution_count": 26,
     "metadata": {},
     "output_type": "execute_result"
    },
    {
     "data": {
      "image/png": "[encoded data removed]",
      "text/plain": [
       "<Figure size 864x216 with 1 Axes>"
      ]
     },
     "metadata": {
      "needs_background": "light"
     },
     "output_type": "display_data"
    }
   ],
   "source": [
    "fig, ax = plt.subplots(figsize=(12, 3))\n",
    "sns.boxplot(x='age', data=old_customer)\n"
   ]
  },
  {
   "cell_type": "code",
   "execution_count": 27,
   "metadata": {},
   "outputs": [
    {
     "name": "stdout",
     "output_type": "stream",
     "text": [
      "<class 'pandas.core.frame.DataFrame'>\n",
      "Int64Index: 3996 entries, 0 to 3995\n",
      "Data columns (total 17 columns):\n",
      "customer_id                            3996 non-null int64\n",
      "first_name                             3996 non-null object\n",
      "last_name                              3871 non-null object\n",
      "gender                                 3996 non-null category\n",
      "past_3_years_bike_related_purchases    3996 non-null int64\n",
      "job_title                              3492 non-null category\n",
      "job_industry_category                  3341 non-null category\n",
      "wealth_segment                         3996 non-null category\n",
      "deceased_indicator                     3996 non-null category\n",
      "owns_car                               3996 non-null category\n",
      "tenure                                 3909 non-null float64\n",
      "address                                3996 non-null object\n",
      "postcode                               3996 non-null int64\n",
      "state                                  3996 non-null category\n",
      "country                                3996 non-null object\n",
      "property_valuation                     3996 non-null int64\n",
      "age                                    3909 non-null float64\n",
      "dtypes: category(7), float64(2), int64(4), object(4)\n",
      "memory usage: 382.2+ KB\n",
      "None\n"
     ]
    }
   ],
   "source": [
    "\n",
    "cat_customer_col=['job_industry_category','wealth_segment','deceased_indicator','owns_car','state','job_title','gender']\n",
    "for item in cat_customer_col:\n",
    "    old_customer[item]=old_customer[item].astype('category')\n",
    "#     old_customer[item]=old_customer[item].fillna(old_customer[item].mode()[0])\n",
    "\n",
    "print(old_customer.info())\n"
   ]
  },
  {
   "cell_type": "code",
   "execution_count": 28,
   "metadata": {},
   "outputs": [
    {
     "data": {
      "text/plain": [
       "customer_id                              0\n",
       "first_name                               0\n",
       "last_name                              125\n",
       "gender                                   0\n",
       "past_3_years_bike_related_purchases      0\n",
       "job_title                              504\n",
       "job_industry_category                  655\n",
       "wealth_segment                           0\n",
       "deceased_indicator                       0\n",
       "owns_car                                 0\n",
       "tenure                                  87\n",
       "address                                  0\n",
       "postcode                                 0\n",
       "state                                    0\n",
       "country                                  0\n",
       "property_valuation                       0\n",
       "age                                     87\n",
       "dtype: int64"
      ]
     },
     "execution_count": 28,
     "metadata": {},
     "output_type": "execute_result"
    }
   ],
   "source": [
    "old_customer.isnull().sum()"
   ]
  },
  {
   "cell_type": "code",
   "execution_count": 29,
   "metadata": {},
   "outputs": [
    {
     "name": "stdout",
     "output_type": "stream",
     "text": [
      "unique in: gender [F, Male, Female, U, Femal, M]\n",
      "Categories (6, object): [F, Male, Female, U, Femal, M]\n",
      "unique in: job_industry_category [Health, Financial Services, IT, NaN, Retail, Argiculture, Property, Manufacturing, Telecommunications, Entertainment]\n",
      "Categories (9, object): [Health, Financial Services, IT, Retail, ..., Property, Manufacturing, Telecommunications, Entertainment]\n",
      "unique in: wealth_segment [Mass Customer, Affluent Customer, High Net Worth]\n",
      "Categories (3, object): [Mass Customer, Affluent Customer, High Net Worth]\n",
      "unique in: deceased_indicator [N, Y]\n",
      "Categories (2, object): [N, Y]\n",
      "unique in: owns_car [Yes, No]\n",
      "Categories (2, object): [Yes, No]\n",
      "unique in: state [New South Wales, QLD, VIC, NSW, Victoria]\n",
      "Categories (5, object): [New South Wales, QLD, VIC, NSW, Victoria]\n",
      "unique in: country ['Australia']\n",
      "unique in: property_valuation [10  9  4 12  8  6  7  3  5 11  1  2]\n"
     ]
    }
   ],
   "source": [
    "col_customer=old_customer.columns.tolist()\n",
    "for item in col_customer:\n",
    "    if len(old_customer[item].unique()) < 16:\n",
    "        print(\"unique in:\",item,old_customer[item].unique())\n",
    "#unique in: gender ['Male' 'Female' 'U']\n",
    "    "
   ]
  },
  {
   "cell_type": "code",
   "execution_count": 30,
   "metadata": {},
   "outputs": [],
   "source": [
    "def Replace_value(df, col, value, revalue):\n",
    "    df[col].replace(value,revalue,inplace =True)\n",
    "    return df[col].unique()"
   ]
  },
  {
   "cell_type": "code",
   "execution_count": 31,
   "metadata": {},
   "outputs": [
    {
     "data": {
      "text/plain": [
       "[NSW, QLD, VIC]\n",
       "Categories (3, object): [NSW, QLD, VIC]"
      ]
     },
     "execution_count": 31,
     "metadata": {},
     "output_type": "execute_result"
    }
   ],
   "source": [
    "Replace_value(old_customer, 'gender', 'F', 'Female')\n",
    "Replace_value(old_customer, 'gender', 'M', 'Male')\n",
    "Replace_value(old_customer, 'gender', 'Femal', 'Female')\n",
    "Replace_value(old_customer, 'gender', 'U', 'Unknown')\n",
    "Replace_value(old_customer, 'state', 'New South Wales', 'NSW')\n",
    "Replace_value(old_customer, 'state', 'Victoria', 'VIC')\n"
   ]
  },
  {
   "cell_type": "code",
   "execution_count": 32,
   "metadata": {},
   "outputs": [
    {
     "name": "stdout",
     "output_type": "stream",
     "text": [
      "<class 'pandas.core.frame.DataFrame'>\n",
      "Int64Index: 3996 entries, 0 to 3995\n",
      "Data columns (total 17 columns):\n",
      "customer_id                            3996 non-null int64\n",
      "first_name                             3996 non-null object\n",
      "last_name                              3871 non-null object\n",
      "gender                                 3996 non-null object\n",
      "past_3_years_bike_related_purchases    3996 non-null int64\n",
      "job_title                              3492 non-null category\n",
      "job_industry_category                  3341 non-null category\n",
      "wealth_segment                         3996 non-null category\n",
      "deceased_indicator                     3996 non-null category\n",
      "owns_car                               3996 non-null category\n",
      "tenure                                 3909 non-null float64\n",
      "address                                3996 non-null object\n",
      "postcode                               3996 non-null int64\n",
      "state                                  3996 non-null category\n",
      "country                                3996 non-null object\n",
      "property_valuation                     3996 non-null int64\n",
      "age                                    3909 non-null float64\n",
      "dtypes: category(6), float64(2), int64(4), object(5)\n",
      "memory usage: 409.3+ KB\n"
     ]
    }
   ],
   "source": [
    "old_customer.info()\n"
   ]
  },
  {
   "cell_type": "code",
   "execution_count": 39,
   "metadata": {},
   "outputs": [],
   "source": [
    "old_customer.to_csv('old_customer.csv',index=False)"
   ]
  },
  {
   "cell_type": "code",
   "execution_count": 40,
   "metadata": {},
   "outputs": [
    {
     "name": "stdout",
     "output_type": "stream",
     "text": [
      "<class 'pandas.core.frame.DataFrame'>\n",
      "RangeIndex: 20000 entries, 0 to 19999\n",
      "Data columns (total 13 columns):\n",
      "transaction_id             20000 non-null int64\n",
      "product_id                 20000 non-null category\n",
      "customer_id                20000 non-null int64\n",
      "transaction_date           20000 non-null datetime64[ns]\n",
      "online_order               19640 non-null category\n",
      "order_status               20000 non-null category\n",
      "brand                      19803 non-null category\n",
      "product_line               19803 non-null category\n",
      "product_class              19803 non-null category\n",
      "product_size               19803 non-null category\n",
      "list_price                 20000 non-null float64\n",
      "standard_cost              19803 non-null float64\n",
      "product_first_sold_date    19803 non-null datetime64[ns]\n",
      "dtypes: category(7), datetime64[ns](2), float64(2), int64(2)\n",
      "memory usage: 1.1 MB\n"
     ]
    }
   ],
   "source": [
    "Tran.info()"
   ]
  },
  {
   "cell_type": "code",
   "execution_count": 38,
   "metadata": {},
   "outputs": [
    {
     "name": "stdout",
     "output_type": "stream",
     "text": [
      "<class 'pandas.core.frame.DataFrame'>\n",
      "RangeIndex: 20000 entries, 0 to 19999\n",
      "Data columns (total 13 columns):\n",
      "transaction_id             20000 non-null int64\n",
      "product_id                 20000 non-null category\n",
      "customer_id                20000 non-null int64\n",
      "transaction_date           20000 non-null datetime64[ns]\n",
      "online_order               19640 non-null category\n",
      "order_status               20000 non-null category\n",
      "brand                      19803 non-null category\n",
      "product_line               19803 non-null category\n",
      "product_class              19803 non-null category\n",
      "product_size               19803 non-null category\n",
      "list_price                 20000 non-null float64\n",
      "standard_cost              19803 non-null float64\n",
      "product_first_sold_date    19803 non-null datetime64[ns]\n",
      "dtypes: category(7), datetime64[ns](2), float64(2), int64(2)\n",
      "memory usage: 1.1 MB\n"
     ]
    }
   ],
   "source": [
    "Tran.to_csv('transaction.csv',index=False)\n",
    "Tran.info()"
   ]
  },
  {
   "cell_type": "code",
   "execution_count": 36,
   "metadata": {},
   "outputs": [
    {
     "data": {
      "image/png": "[encoded data removed]",
      "text/plain": [
       "<Figure size 432x288 with 1 Axes>"
      ]
     },
     "metadata": {
      "needs_background": "light"
     },
     "output_type": "display_data"
    }
   ],
   "source": [
    "for item in Tran_col:\n",
    "    Tran[item].value_counts(sort=True,normalize=True).plot(kind='bar')"
   ]
  },
  {
   "cell_type": "code",
   "execution_count": 37,
   "metadata": {},
   "outputs": [
    {
     "name": "stdout",
     "output_type": "stream",
     "text": [
      "order_status\n",
      "Approved     0.99105\n",
      "Cancelled    0.00895\n",
      "Name: product_id, dtype: float64\n",
      "brand\n",
      "Giant Bicycles    0.16560\n",
      "Norco Bicycles    0.14550\n",
      "OHM Cycles        0.15215\n",
      "Solex             0.21265\n",
      "Trek Bicycles     0.14950\n",
      "WeareA2B          0.16475\n",
      "Name: product_id, dtype: float64\n",
      "product_line\n",
      "Mountain    0.02115\n",
      "Road        0.19850\n",
      "Standard    0.70880\n",
      "Touring     0.06170\n",
      "Name: product_id, dtype: float64\n",
      "product_class\n",
      "high      0.15065\n",
      "low       0.14820\n",
      "medium    0.69130\n",
      "Name: product_id, dtype: float64\n",
      "product_size\n",
      "large     0.19880\n",
      "medium    0.64950\n",
      "small     0.14185\n",
      "Name: product_id, dtype: float64\n",
      "product_id\n",
      "0      0.06890\n",
      "1      0.01555\n",
      "2      0.01200\n",
      "3      0.01770\n",
      "4      0.01205\n",
      "        ...   \n",
      "96     0.00805\n",
      "97     0.00710\n",
      "98     0.00780\n",
      "99     0.00760\n",
      "100    0.00650\n",
      "Name: product_id, Length: 101, dtype: float64\n",
      "online_order\n",
      "No     0.49055\n",
      "Yes    0.49145\n",
      "Name: product_id, dtype: float64\n"
     ]
    }
   ],
   "source": [
    "Tran_col=['order_status','brand','product_line','product_class','product_size','product_id','online_order']\n",
    "for item in Tran_col:\n",
    "    counts=Tran.groupby(by=[item])['product_id'].count()/20000\n",
    "    print(counts)\n",
    "    "
   ]
  },
  {
   "cell_type": "code",
   "execution_count": null,
   "metadata": {},
   "outputs": [],
   "source": [
    "# df.to_pickle(file_name)"
   ]
  },
  {
   "cell_type": "code",
   "execution_count": null,
   "metadata": {},
   "outputs": [],
   "source": []
  }
 ],
 "metadata": {
  "kernelspec": {
   "display_name": "Python 3.7.4 64-bit ('base': conda)",
   "language": "python",
   "name": "python37464bitbaseconda18fcee4405f64ab28f8bfd2005abae12"
  },
  "language_info": {
   "codemirror_mode": {
    "name": "ipython",
    "version": 3
   },
   "file_extension": ".py",
   "mimetype": "text/x-python",
   "name": "python",
   "nbconvert_exporter": "python",
   "pygments_lexer": "ipython3",
   "version": "3.7.4"
  }
 },
 "nbformat": 4,
 "nbformat_minor": 2
}
